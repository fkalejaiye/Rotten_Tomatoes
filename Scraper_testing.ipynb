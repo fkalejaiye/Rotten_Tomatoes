{
 "cells": [
  {
   "cell_type": "code",
   "execution_count": 3,
   "metadata": {},
   "outputs": [],
   "source": [
    "from pymongo import MongoClient\n",
    "import pandas as pd\n",
    "import requests\n",
    "from bs4 import BeautifulSoup\n",
    "import time\n",
    "import pprint\n",
    "import time\n",
    "import json\n",
    "from contextlib import contextmanager\n",
    "from selenium import webdriver\n",
    "from selenium.webdriver.common.by import By\n",
    "from selenium.webdriver.support.ui import WebDriverWait\n",
    "from selenium.webdriver.support import expected_conditions as EC\n",
    "from selenium.common.exceptions import ElementNotVisibleException\n",
    "from selenium.common.exceptions import TimeoutException\n",
    "from selenium.common.exceptions import StaleElementReferenceException\n",
    "import re"
   ]
  },
  {
   "cell_type": "code",
   "execution_count": 4,
   "metadata": {},
   "outputs": [],
   "source": [
    "client = MongoClient()\n",
    "capstone_db=client['capstone']\n",
    "rating = capstone_db['femi']"
   ]
  },
  {
   "cell_type": "code",
   "execution_count": 5,
   "metadata": {},
   "outputs": [],
   "source": [
    "url_main='https://www.rottentomatoes.com/browse/dvd-streaming-all?minTomato=0&maxTomato=1&services=amazon;hbo_go;itunes;netflix_iw;vudu;amazon_prime;fandango_now&genres=1;2;4;5;6;8;9;10;11;13;18;14&sortBy=release'"
   ]
  },
  {
   "cell_type": "code",
   "execution_count": 6,
   "metadata": {},
   "outputs": [],
   "source": [
    "def get_urls(x):\n",
    "    driver = webdriver.Chrome(executable_path='./src/chromedriver')\n",
    "    driver.get(x)\n",
    "    time.sleep(15)\n",
    "    show_more_button = driver.find_element_by_class_name(\"btn.btn-secondary-rt.mb-load-btn\")\n",
    "    \n",
    "    while(True):\n",
    "           \n",
    "        try:\n",
    "            show_more_button.click()\n",
    "            time.sleep(2)\n",
    "            \n",
    "        except ElementNotVisibleException:\n",
    "            break\n",
    "        except TimeoutException:\n",
    "            break\n",
    "        except StaleElementReferenceException:\n",
    "            break\n",
    "        \n",
    "        \n",
    "    #record each movie title and its url inside dict\n",
    "    soup = BeautifulSoup(driver.page_source,\"lxml\")\n",
    "    links=[]\n",
    "    for link in soup.findAll('a', attrs={'href': re.compile(\"/m/\")}):\n",
    "        links.append(link.get('href'))\n",
    "    links2=[]\n",
    "    for link in links:\n",
    "        if link not in links2:\n",
    "            links2.append(link)\n",
    "    #movies = soup.find_all('h3', {'class' :\"movieTitle\"})\n",
    "    #movies= [movie.text for movie in movies]\n",
    "    return links2\n",
    "    driver.quit()"
   ]
  },
  {
   "cell_type": "code",
   "execution_count": 27,
   "metadata": {},
   "outputs": [],
   "source": [
    "def get_info_from_urls(x):\n",
    "    p=0\n",
    "    for url in x:\n",
    "        \n",
    "        r = requests.get(url)\n",
    "        if r.status_code ==200:\n",
    "            soup = BeautifulSoup(r.text, 'html.parser')\n",
    "\n",
    "            movie = soup.find('h1', class_=\"mop-ratings-wrap__title mop-ratings-wrap__title--top\").text\n",
    "            rating_tags = soup.find_all('span', class_=\"mop-ratings-wrap__percentage\")\n",
    "            if len(rating_tags)==2:\n",
    "                tomatometer,audience = [i for i in rating_tags]\n",
    "                tomatometer = tomatometer.text.strip('\\n').strip().strip('%')\n",
    "                audience = audience.text.strip('\\n').strip().strip('%')\n",
    "                date = soup.find('time').text\n",
    "                rating.insert_one({'movie':movie, 'tomatometer':tomatometer, 'audience':audience, 'date':date})\n",
    "                p+=1\n",
    "                print(f\"Added {movie} to Database ({(p/len(x))*100}% done.)\")\n",
    "            \n",
    "            else: \n",
    "                continue\n",
    "        else:\n",
    "            continue\n",
    "\n",
    "        time.sleep(10)"
   ]
  },
  {
   "cell_type": "code",
   "execution_count": 8,
   "metadata": {},
   "outputs": [],
   "source": [
    "urls = get_urls(url_main)"
   ]
  },
  {
   "cell_type": "code",
   "execution_count": 9,
   "metadata": {},
   "outputs": [],
   "source": [
    "def get_full_urls(x):\n",
    "    full_urls = []\n",
    "    first_half = 'http://www.rottentomatoes.com'\n",
    "    for url in x:\n",
    "        full_urls.append(first_half+url)\n",
    "    return full_urls\n",
    "    "
   ]
  },
  {
   "cell_type": "code",
   "execution_count": 10,
   "metadata": {},
   "outputs": [],
   "source": [
    "full_urls= get_full_urls(urls)"
   ]
  },
  {
   "cell_type": "code",
   "execution_count": 21,
   "metadata": {},
   "outputs": [
    {
     "data": {
      "text/plain": [
       "['http://www.rottentomatoes.com/m/hellraiser_hellseeker',\n",
       " 'http://www.rottentomatoes.com/m/dracula_ii_ascension']"
      ]
     },
     "execution_count": 21,
     "metadata": {},
     "output_type": "execute_result"
    }
   ],
   "source": [
    "full_urls[300:302]"
   ]
  },
  {
   "cell_type": "code",
   "execution_count": 28,
   "metadata": {},
   "outputs": [
    {
     "name": "stdout",
     "output_type": "stream",
     "text": [
      "Added The Toolbox Murders to Database (50.0% done.)\n",
      "Added Killing Me Softly to Database (100.0% done.)\n"
     ]
    }
   ],
   "source": [
    "get_info_from_urls(full_urls[316:318])"
   ]
  },
  {
   "cell_type": "code",
   "execution_count": null,
   "metadata": {},
   "outputs": [],
   "source": []
  }
 ],
 "metadata": {
  "kernelspec": {
   "display_name": "Python 3",
   "language": "python",
   "name": "python3"
  },
  "language_info": {
   "codemirror_mode": {
    "name": "ipython",
    "version": 3
   },
   "file_extension": ".py",
   "mimetype": "text/x-python",
   "name": "python",
   "nbconvert_exporter": "python",
   "pygments_lexer": "ipython3",
   "version": "3.7.4"
  }
 },
 "nbformat": 4,
 "nbformat_minor": 2
}
