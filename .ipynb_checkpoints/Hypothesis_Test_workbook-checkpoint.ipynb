{
 "cells": [
  {
   "cell_type": "code",
   "execution_count": 1,
   "metadata": {},
   "outputs": [],
   "source": [
    "import numpy as np\n",
    "import pandas as pd\n",
    "import matplotlib.pyplot as plt\n",
    "import scipy.stats as stats\n",
    "from random import *\n",
    "%matplotlib inline"
   ]
  },
  {
   "cell_type": "code",
   "execution_count": 2,
   "metadata": {},
   "outputs": [],
   "source": [
    "%run -i 'data_pipeline.py'"
   ]
  },
  {
   "cell_type": "code",
   "execution_count": 3,
   "metadata": {},
   "outputs": [
    {
     "data": {
      "text/html": [
       "<div>\n",
       "<style scoped>\n",
       "    .dataframe tbody tr th:only-of-type {\n",
       "        vertical-align: middle;\n",
       "    }\n",
       "\n",
       "    .dataframe tbody tr th {\n",
       "        vertical-align: top;\n",
       "    }\n",
       "\n",
       "    .dataframe thead th {\n",
       "        text-align: right;\n",
       "    }\n",
       "</style>\n",
       "<table border=\"1\" class=\"dataframe\">\n",
       "  <thead>\n",
       "    <tr style=\"text-align: right;\">\n",
       "      <th></th>\n",
       "      <th>movie</th>\n",
       "      <th>critic_score</th>\n",
       "      <th>audience_score</th>\n",
       "      <th>release_date</th>\n",
       "      <th>audience_tomatometer</th>\n",
       "      <th>critic_tomatometer</th>\n",
       "      <th>score_difference</th>\n",
       "    </tr>\n",
       "  </thead>\n",
       "  <tbody>\n",
       "    <tr>\n",
       "      <td>0</td>\n",
       "      <td>The Invisible Man</td>\n",
       "      <td>91</td>\n",
       "      <td>88</td>\n",
       "      <td>Feb 28, 2020</td>\n",
       "      <td>Fresh</td>\n",
       "      <td>Fresh</td>\n",
       "      <td>-3</td>\n",
       "    </tr>\n",
       "    <tr>\n",
       "      <td>1</td>\n",
       "      <td>The Way Back</td>\n",
       "      <td>83</td>\n",
       "      <td>84</td>\n",
       "      <td>Mar 6, 2020</td>\n",
       "      <td>Fresh</td>\n",
       "      <td>Fresh</td>\n",
       "      <td>1</td>\n",
       "    </tr>\n",
       "    <tr>\n",
       "      <td>2</td>\n",
       "      <td>Never Rarely Sometimes Always</td>\n",
       "      <td>99</td>\n",
       "      <td>72</td>\n",
       "      <td>Mar 13, 2020</td>\n",
       "      <td>Fresh</td>\n",
       "      <td>Fresh</td>\n",
       "      <td>-27</td>\n",
       "    </tr>\n",
       "    <tr>\n",
       "      <td>3</td>\n",
       "      <td>Bad Boys for Life</td>\n",
       "      <td>77</td>\n",
       "      <td>96</td>\n",
       "      <td>Jan 17, 2020</td>\n",
       "      <td>Fresh</td>\n",
       "      <td>Fresh</td>\n",
       "      <td>19</td>\n",
       "    </tr>\n",
       "    <tr>\n",
       "      <td>4</td>\n",
       "      <td>Sonic the Hedgehog</td>\n",
       "      <td>64</td>\n",
       "      <td>93</td>\n",
       "      <td>Feb 14, 2020</td>\n",
       "      <td>Fresh</td>\n",
       "      <td>Fresh</td>\n",
       "      <td>29</td>\n",
       "    </tr>\n",
       "    <tr>\n",
       "      <td>...</td>\n",
       "      <td>...</td>\n",
       "      <td>...</td>\n",
       "      <td>...</td>\n",
       "      <td>...</td>\n",
       "      <td>...</td>\n",
       "      <td>...</td>\n",
       "      <td>...</td>\n",
       "    </tr>\n",
       "    <tr>\n",
       "      <td>4582</td>\n",
       "      <td>Jayne Mansfield's Car</td>\n",
       "      <td>35</td>\n",
       "      <td>40</td>\n",
       "      <td>Sep 13, 2013</td>\n",
       "      <td>Rotten</td>\n",
       "      <td>Rotten</td>\n",
       "      <td>5</td>\n",
       "    </tr>\n",
       "    <tr>\n",
       "      <td>4583</td>\n",
       "      <td>The Angels' Share</td>\n",
       "      <td>89</td>\n",
       "      <td>78</td>\n",
       "      <td>Apr 12, 2013</td>\n",
       "      <td>Fresh</td>\n",
       "      <td>Fresh</td>\n",
       "      <td>-11</td>\n",
       "    </tr>\n",
       "    <tr>\n",
       "      <td>4584</td>\n",
       "      <td>The Hunt (Jagten)</td>\n",
       "      <td>92</td>\n",
       "      <td>93</td>\n",
       "      <td>Jul 12, 2013</td>\n",
       "      <td>Fresh</td>\n",
       "      <td>Fresh</td>\n",
       "      <td>1</td>\n",
       "    </tr>\n",
       "    <tr>\n",
       "      <td>4585</td>\n",
       "      <td>Our Children</td>\n",
       "      <td>93</td>\n",
       "      <td>69</td>\n",
       "      <td>Aug 2, 2013</td>\n",
       "      <td>Fresh</td>\n",
       "      <td>Fresh</td>\n",
       "      <td>-24</td>\n",
       "    </tr>\n",
       "    <tr>\n",
       "      <td>4586</td>\n",
       "      <td>Sightseers</td>\n",
       "      <td>85</td>\n",
       "      <td>62</td>\n",
       "      <td>May 10, 2013</td>\n",
       "      <td>Fresh</td>\n",
       "      <td>Fresh</td>\n",
       "      <td>-23</td>\n",
       "    </tr>\n",
       "  </tbody>\n",
       "</table>\n",
       "<p>4587 rows × 7 columns</p>\n",
       "</div>"
      ],
      "text/plain": [
       "                              movie  critic_score  audience_score  \\\n",
       "0                 The Invisible Man            91              88   \n",
       "1                      The Way Back            83              84   \n",
       "2     Never Rarely Sometimes Always            99              72   \n",
       "3                 Bad Boys for Life            77              96   \n",
       "4                Sonic the Hedgehog            64              93   \n",
       "...                             ...           ...             ...   \n",
       "4582          Jayne Mansfield's Car            35              40   \n",
       "4583              The Angels' Share            89              78   \n",
       "4584              The Hunt (Jagten)            92              93   \n",
       "4585                   Our Children            93              69   \n",
       "4586                     Sightseers            85              62   \n",
       "\n",
       "      release_date audience_tomatometer critic_tomatometer  score_difference  \n",
       "0     Feb 28, 2020                Fresh              Fresh                -3  \n",
       "1      Mar 6, 2020                Fresh              Fresh                 1  \n",
       "2     Mar 13, 2020                Fresh              Fresh               -27  \n",
       "3     Jan 17, 2020                Fresh              Fresh                19  \n",
       "4     Feb 14, 2020                Fresh              Fresh                29  \n",
       "...            ...                  ...                ...               ...  \n",
       "4582  Sep 13, 2013               Rotten             Rotten                 5  \n",
       "4583  Apr 12, 2013                Fresh              Fresh               -11  \n",
       "4584  Jul 12, 2013                Fresh              Fresh                 1  \n",
       "4585   Aug 2, 2013                Fresh              Fresh               -24  \n",
       "4586  May 10, 2013                Fresh              Fresh               -23  \n",
       "\n",
       "[4587 rows x 7 columns]"
      ]
     },
     "execution_count": 3,
     "metadata": {},
     "output_type": "execute_result"
    }
   ],
   "source": [
    "ratings_df"
   ]
  },
  {
   "cell_type": "markdown",
   "metadata": {},
   "source": [
    "# Hypothesis Test ( Are means the Same)\n",
    "\n",
    "##### Null Hypothesis: The mean of the critic scores equals the mean of the audience scores.\n",
    "\n",
    "##### Alternative Hypothesis: The mean of the critic scores does not equals the mean of the audience scores.\n",
    "\n",
    "##### Significance Level= 0.05"
   ]
  },
  {
   "cell_type": "code",
   "execution_count": 9,
   "metadata": {},
   "outputs": [
    {
     "data": {
      "text/plain": [
       "(62.06910834968389, 57.619359058207976)"
      ]
     },
     "execution_count": 9,
     "metadata": {},
     "output_type": "execute_result"
    }
   ],
   "source": [
    "ratings_df['critic_score'].mean(),ratings_df['audience_score'].mean()"
   ]
  },
  {
   "cell_type": "code",
   "execution_count": 34,
   "metadata": {},
   "outputs": [
    {
     "data": {
      "text/plain": [
       "(8.519676403168509, 1.852933704152718e-17)"
      ]
     },
     "execution_count": 34,
     "metadata": {},
     "output_type": "execute_result"
    }
   ],
   "source": [
    "stat,p_val=stats.ttest_ind(ratings_df['critic_score'],ratings_df['audience_score'])\n",
    "stat,p_val"
   ]
  },
  {
   "cell_type": "markdown",
   "metadata": {},
   "source": [
    "#### Reject Null. The mean of critic and audience scores is not equal."
   ]
  },
  {
   "cell_type": "markdown",
   "metadata": {},
   "source": [
    "# Hypothesis Test ( Are means within 5 points )\n",
    "\n",
    "##### Null Hypothesis: The absolute value of the mean of the critic scores - the mean of the audience scores is greater than  =< 5\n",
    "\n",
    "##### Alternative Hypothesis: The absolute value of the mean of the critic scores - the mean of the audience scores is greater than   >5\n",
    "\n",
    "##### Significance Level= 0.05"
   ]
  },
  {
   "cell_type": "code",
   "execution_count": 13,
   "metadata": {},
   "outputs": [
    {
     "data": {
      "text/plain": [
       "-4.44974929147591"
      ]
     },
     "execution_count": 13,
     "metadata": {},
     "output_type": "execute_result"
    }
   ],
   "source": [
    "ratings_df['score_difference'].mean()"
   ]
  },
  {
   "cell_type": "code",
   "execution_count": 88,
   "metadata": {},
   "outputs": [
    {
     "data": {
      "text/plain": [
       "(-1.0535330577432411, 0.2921245041007815)"
      ]
     },
     "execution_count": 88,
     "metadata": {},
     "output_type": "execute_result"
    }
   ],
   "source": [
    "stat,p_val=stats.ttest_ind(ratings_df['critic_score']-5,ratings_df['audience_score'])\n",
    "stat,p_val"
   ]
  },
  {
   "cell_type": "markdown",
   "metadata": {},
   "source": [
    "#### Fail to Reject Null. The mean Audience score and Mean score are within 5 points of each other."
   ]
  },
  {
   "cell_type": "markdown",
   "metadata": {},
   "source": [
    "# Bayesian Test ( What is the probability the scores are within 5 points )"
   ]
  },
  {
   "cell_type": "code",
   "execution_count": 89,
   "metadata": {},
   "outputs": [
    {
     "data": {
      "text/plain": [
       "16.68"
      ]
     },
     "execution_count": 89,
     "metadata": {},
     "output_type": "execute_result"
    }
   ],
   "source": [
    "prob = round((abs(ratings_df['critic_score'] - ratings_df['audience_score'])<=5).mean() * 100, 2)\n",
    "prob"
   ]
  },
  {
   "cell_type": "markdown",
   "metadata": {},
   "source": [
    "####  The Audience score is within 5 points of the critic score 16.68% of the time."
   ]
  },
  {
   "cell_type": "code",
   "execution_count": null,
   "metadata": {},
   "outputs": [],
   "source": []
  }
 ],
 "metadata": {
  "kernelspec": {
   "display_name": "Python 3",
   "language": "python",
   "name": "python3"
  },
  "language_info": {
   "codemirror_mode": {
    "name": "ipython",
    "version": 3
   },
   "file_extension": ".py",
   "mimetype": "text/x-python",
   "name": "python",
   "nbconvert_exporter": "python",
   "pygments_lexer": "ipython3",
   "version": "3.7.4"
  }
 },
 "nbformat": 4,
 "nbformat_minor": 2
}
