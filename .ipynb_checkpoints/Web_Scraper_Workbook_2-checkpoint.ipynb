{
 "cells": [
  {
   "cell_type": "code",
   "execution_count": 1,
   "metadata": {},
   "outputs": [],
   "source": [
    "from pymongo import MongoClient\n",
    "import pandas as pd\n",
    "import requests\n",
    "from bs4 import BeautifulSoup\n",
    "import time\n",
    "import pprint\n",
    "import time\n",
    "import json\n",
    "from contextlib import contextmanager\n",
    "from selenium import webdriver\n",
    "from selenium.webdriver.common.by import By\n",
    "from selenium.webdriver.support.ui import WebDriverWait\n",
    "from selenium.webdriver.support import expected_conditions as EC\n",
    "from selenium.common.exceptions import ElementNotVisibleException\n",
    "from selenium.common.exceptions import TimeoutException\n",
    "from selenium.common.exceptions import StaleElementReferenceException\n",
    "import re"
   ]
  },
  {
   "cell_type": "code",
   "execution_count": 2,
   "metadata": {},
   "outputs": [],
   "source": [
    "client = MongoClient()\n",
    "testing_db=client['testing']\n",
    "testcoll=testing_db['testcol']"
   ]
  },
  {
   "cell_type": "code",
   "execution_count": 3,
   "metadata": {},
   "outputs": [],
   "source": [
    "url_main='https://www.rottentomatoes.com/browse/dvd-streaming-all?minTomato=0&maxTomato=1&services=amazon;hbo_go;itunes;netflix_iw;vudu;amazon_prime;fandango_now&genres=1;2;4;5;6;8;9;10;11;13;18;14&sortBy=release'\n"
   ]
  },
  {
   "cell_type": "code",
   "execution_count": 4,
   "metadata": {},
   "outputs": [],
   "source": [
    "def get_urls(x):\n",
    "    movie_links = []\n",
    "    driver = webdriver.Chrome(executable_path='./src/chromedriver')\n",
    "    driver.get(x)\n",
    "    time.sleep(15)\n",
    "    show_more_button = driver.find_element_by_class_name(\"btn.btn-secondary-rt.mb-load-btn\")\n",
    "    \n",
    "    while(True):\n",
    "           \n",
    "        try:\n",
    "            show_more_button.click()\n",
    "            time.sleep(2)\n",
    "            \n",
    "        except ElementNotVisibleException:\n",
    "            break\n",
    "        except TimeoutException:\n",
    "            break\n",
    "        except StaleElementReferenceException:\n",
    "            break\n",
    "        \n",
    "    print('Scraping now')\n",
    "        \n",
    "    #record each movie title and its url inside dict\n",
    "    soup = BeautifulSoup(driver.page_source,\"lxml\")\n",
    "    links=[]\n",
    "    for link in soup.findAll('a', attrs={'href': re.compile(\"/m/\")}):\n",
    "        links.append(link.get('href'))\n",
    "    links2=[]\n",
    "    for link in links:\n",
    "        if link not in links2:\n",
    "            links2.append(link)\n",
    "    #movies = soup.find_all('h3', {'class' :\"movieTitle\"})\n",
    "    #movies= [movie.text for movie in movies]\n",
    "    return links2\n",
    "    driver.quit()"
   ]
  },
  {
   "cell_type": "code",
   "execution_count": 6,
   "metadata": {},
   "outputs": [
    {
     "name": "stdout",
     "output_type": "stream",
     "text": [
      "Scraping now\n",
      "['/m/the_invisible_man_2020', '/m/the_way_back_2020', '/m/never_rarely_sometimes_always', '/m/gotti_2018', '/m/london_fields', '/m/polaroid_2019', '/m/welcome_to_curiosity', '/m/solis', '/m/the_after_party_2018', '/m/maximum_impact_2018', '/m/american_dresser', '/m/air_strike_2018', '/m/speed_kills', '/m/trading_paint', '/m/killers_anonymous', '/m/the_poison_rose', '/m/hallowed_ground_2019', '/m/the_child_remains', '/m/saving_zoe', '/m/drive_2019', '/m/the_influence_2019', '/m/dead_water', '/m/enter_the_anime', '/m/imprisoned_2019', '/m/10_minutes_gone', '/m/portals', '/m/radioflash', '/m/the_gallows_act_ii', '/m/mob_town_2019', '/m/acceleration', '/m/invasion_planet_earth', '/m/john_henry_2020', '/m/get_gone', '/m/the_coldest_game', '/m/the_murder_of_nicole_brown_simpson', '/m/dark_crimes', '/m/max_steel', '/m/kirk_camerons_saving_christmas', '/m/the_disappointments_room', '/m/the_layover', '/m/age_of_kill', '/m/backgammon_2015', '/m/showdown_in_manila', '/m/is_that_a_gun_in_your_pocket', '/m/future_world', '/m/contract_to_kill', '/m/kill_ratio', '/m/sex_doll', '/m/the_institute_2017', '/m/november_criminals', '/m/96_souls', '/m/naked_2017', '/m/stratton', '/m/armed_response_2017', '/m/gun_shy_2017', '/m/the_stolen_2017', '/m/slumber_2017', '/m/gangster_land', '/m/acts_of_violence_2018', '/m/status_update', '/m/deep_blue_sea_2', '/m/delirium_2018', '/m/black_water_2018', '/m/the_music_of_silence', '/m/the_con_is_on', '/m/breaking_and_exiting', '/m/father_of_the_year', '/m/outside_bet_2012', '/m/left_behind_2014', '/m/term_life', '/m/hell_and_back', '/m/the_anomaly', '/m/united_passions', '/m/atlas_shrugged_who_is_john_galt', '/m/days_and_nights_2013', '/m/freedom_2015', '/m/the_white_haired_witch_of_lunar_kingdom_3d', '/m/cam2cam', '/m/viktor', '/m/la_slasher', '/m/muck', '/m/the_walking_deceased', '/m/see_you_in_valhalla_2015', '/m/any_day', '/m/dawn_patrol_2015', '/m/safelight', '/m/wrecker', '/m/cabin_fever_2016', '/m/christmas_eve_2015', '/m/all_roads_lead_to_rome_2008', '/m/precious_cargo_2016', '/m/urge', '/m/the_true_memoirs_of_an_international_assassin_2016', '/m/amateur_night_2016', '/m/andron', '/m/null', '/m/spaceman_2016', '/m/life_on_the_line_2016', '/m/my_dead_boyfriend', '/m/gator', '/m/boss_2013', '/m/i_spit_on_your_grave_2', '/m/you_may_not_kiss_the_bride', '/m/will_2011', '/m/joker_3d', '/m/chroniques_sexuelles_dune_famille_daujourdhui', '/m/the_snow_queen_2012', '/m/elfie_hopkins_2012', '/m/last_ounce_of_courage', '/m/leprechaun_origins', '/m/generation_um', '/m/the_knot_2012', '/m/gottfried_helnwein_and_the_dreaming_child', '/m/hating_breitbart', '/m/the_starving_games', '/m/inappropriate_comedy', '/m/the_condemned_2013', '/m/once_upon_a_time_in_brooklyn_2013', '/m/stranded_2012', '/m/how_sweet_it_is_2013', '/m/mission_park_2013', '/m/best_night_ever', '/m/kite_2014', '/m/live_at_the_foxes_den', '/m/butcher_boys_2013', '/m/10_rules_for_sleeping_around', '/m/the_prince_2015', '/m/persecuted', '/m/behaving_badly_2014', '/m/reclaim_2014', '/m/catch_hell', '/m/nola', '/m/1001428-awakening', '/m/fall_down_dead', '/m/an_invisible_sign', '/m/10011735-beautiful_life', '/m/a_thousand_words', '/m/merah-putih', '/m/father-of-invention', '/m/fading-of-the-cries', '/m/10012232-killing_jar', '/m/kalamity', '/m/the_lion_of_judah', '/m/bucky_larson_born_to_be_a_star', '/m/brothers_justice', '/m/action_replayy', '/m/2011', '/m/swinging_with_the_finkels', '/m/you_got_served_beat_the_world', '/m/world_of_the_dead_the_zombie_diaries_2', '/m/love_wedding_marriage', '/m/the_perfect_age_of_rock_n_roll_2011', '/m/dark_tide_2011', '/m/the_undefeated_2011', '/m/playback_2011', '/m/reuniting_the_rubins_2011', '/m/a_novel_romance', '/m/mercenaries_2011', '/m/deadline_2012', '/m/jannat_2', '/m/for_the_love_of_money_2012', '/m/general_education_2012', '/m/trade_of_innocents', '/m/slaughter_high', '/m/1203528-fetching_cody', '/m/hot_to_trot', '/m/1045933-deadfall', '/m/1206853-weapons', '/m/1018473-second_sight', '/m/10008706-house', '/m/sarah_landon_and_the_paranormal_hour', '/m/homer_and_eddie', '/m/transylmania', '/m/when_time_ran_out', '/m/lost_boys_the_tribe', '/m/disaster_movie', '/m/surfer_dude', '/m/beer_for_my_horses', '/m/dim_sum_funeral', '/m/golmaal-returns', '/m/long-weekend-2008', '/m/10010957-polanski_unauthorized', '/m/midgets-vs-mascots', '/m/1213377-homecoming', '/m/1212440-home', '/m/10012207-stolen', '/m/eulogy_for_a_vampire', '/m/1220545-children_of_the_corn', '/m/1221008-breaking_point', '/m/shank', '/m/space_chimps_2_zartog_strikes_back', '/m/pimp_2010', '/m/fred_the_movie', '/m/lost_boys_the_thirst_2010', '/m/two_on_a_guillotine_1965', '/m/kronks_new_groove', '/m/beyond_the_poseidon_adventure', '/m/my_first_wedding', '/m/solarbabies', '/m/the_toxic_avenger_part_ii_1989', '/m/1168275-karla', '/m/ill_always_know_what_you_did_last_summer', '/m/behind_enemy_lines_2_axis_of_evil', '/m/1017823-roman_spring_of_mrs_stone', '/m/1166176-rest_stop', '/m/national_lampoon_s_pledge_this', '/m/american-pie-5-the-naked-mile', '/m/deadtime_stories', '/m/1146294-antares', '/m/daddy_day_camp', '/m/caffeine', '/m/up_the_academy', '/m/redline', '/m/1177488-contract', '/m/graduation', '/m/the_vips_1963', '/m/gang_that_couldnt_shoot_straight', '/m/echoes_of_innocence', '/m/nate_and_hayes', '/m/one_missed_call', '/m/1023236-water', '/m/kiss_me_again', '/m/cover', '/m/remember_the_daze', '/m/blue_iguana', '/m/vacationland', '/m/10010131-scar', '/m/mulan_ii', '/m/rainbow_brite_and_the_star_stealer', '/m/1039460-all_i_want_for_christmas', '/m/beethovens_3rd', '/m/casper_a_spirited_beginning', '/m/touching-wild-horses', '/m/heartbeeps', '/m/slappy_and_the_stinkers', '/m/1000792-american_anthem', '/m/return_of_the_living_dead_2', '/m/bolero_1984', '/m/truth_about_love', '/m/alone_in_the_dark', '/m/10004069-whore', '/m/10004352-going_the_distance', '/m/twisted', '/m/merci_docteur_rey', '/m/heart_condition', '/m/written_in_blood', '/m/after_image', '/m/chooch', '/m/national_lampoons_movie_madness', '/m/national_lampoon_s_gold_diggers', '/m/10004835-farewell_to_arms', '/m/it_started_in_naples', '/m/1081000-fall', '/m/1000580-alexander_the_great', '/m/the_crow_wicked_prayer', '/m/ringu_2', '/m/super_babies_baby_geniuses_2', '/m/ripe', '/m/sex_politics_and_cocktails', '/m/1119026-pinocchio', '/m/dream_a_little_dream', '/m/return_of_the_killer_tomatoes_the_sequel', '/m/big_green', '/m/repossessed', '/m/jury_duty', '/m/once_upon_a_crime', '/m/its-pat', '/m/police_academy_5_assignment_miami_beach', '/m/sting_2', '/m/police_academy_4_citizens_on_patrol', '/m/pyromaniacs_love_story', '/m/funny_about_love', '/m/police_academy_7_mission_to_moscow', '/m/police_academy_6_city_under_siege', '/m/critters_3', '/m/sluggers_wife', '/m/super', '/m/national_lampoons_senior_trip', '/m/all_i_want', '/m/1040204-live_wire', '/m/what_boys_like', '/m/johnny_be_good', '/m/bone_snatcher', '/m/delta_of_venus', '/m/orgy_of_the_dead', '/m/the_singing_forest', '/m/dorm_daze', '/m/manos-the-hands-of-fate', '/m/run_for_the_money', '/m/the_horror_show_1989', '/m/29_palms', '/m/beethovens_4th', '/m/staying_alive', '/m/master_of_disguise', '/m/return_to_the_blue_lagoon', '/m/k9_pi', '/m/look_whos_talking_now', '/m/empire_of_the_ants', '/m/ed', '/m/wagons_east', '/m/hellraiser_hellseeker', '/m/dracula_ii_ascension', '/m/state_property', '/m/low_down_dirty_shame', '/m/house_party_3', '/m/ballistic_ecks_vs_sever', '/m/thief_of_hearts', '/m/stepfather_ii', '/m/hills_have_eyes_the_pt_2', '/m/hero_and_the_terror', '/m/loose_cannons', '/m/basil', '/m/1116741-derailed', '/m/de_sade', '/m/slap_shot_2_breaking_the_ice', '/m/1112237-order', '/m/1021681-toolbox_murders', '/m/killing_me_softly', '/m/eegah', '/m/angry_red_planet', '/m/new-port-south', '/m/brotherhood_of_satan', '/m/switching_goals', '/m/gi_blues', '/m/3_ninjas_high_noon_at_mega_mountain', '/m/big_bully', '/m/simon_sez', '/m/problem_child', '/m/billy_jack_goes_to_washington', '/m/lulu_on_the_bridge', '/m/1059857-top_dog', '/m/1072689-dentist', '/m/1099999-beowulf', '/m/children_of_the_corn_v_fields_of_terror', '/m/children_of_the_corn_666_isaacs_return', '/m/sometimes_they_come_backfor_more_1999', '/m/suburbans', '/m/fortress_2_re_entry', '/m/1059003-true_crime', '/m/foolish', '/m/substitute_2_schools_out', '/m/murder_of_crows', '/m/leprechaun_4_in_space', '/m/xchange', '/m/the-bogus-witch-project', '/m/peacekeeper', '/m/ghoulies_2', '/m/tail_lights_fade', '/m/my_five_wives', '/m/1085739-wishful_thinking', '/m/mars_needs_women', '/m/deepstar-six', '/m/attraction', '/m/dragon_and_the_hawk', '/m/the_thing_with_two_heads', '/m/in_gods_hands', '/m/jaws_the_revenge', '/m/death_wish_v_the_face_of_death', '/m/dentist_2_the_brace_yourself', '/m/caught_up', '/m/leprechaun_3', '/m/leprechaun_2', '/m/highlander_2_the_quickening', '/m/shadow_conspiracy', '/m/megaforce', '/m/madhouse_1990', '/m/year_of_the_comet'] 367\n"
     ]
    }
   ],
   "source": [
    "get_urls(url_main)"
   ]
  },
  {
   "cell_type": "code",
   "execution_count": null,
   "metadata": {},
   "outputs": [],
   "source": []
  }
 ],
 "metadata": {
  "kernelspec": {
   "display_name": "Python 3",
   "language": "python",
   "name": "python3"
  },
  "language_info": {
   "codemirror_mode": {
    "name": "ipython",
    "version": 3
   },
   "file_extension": ".py",
   "mimetype": "text/x-python",
   "name": "python",
   "nbconvert_exporter": "python",
   "pygments_lexer": "ipython3",
   "version": "3.7.4"
  }
 },
 "nbformat": 4,
 "nbformat_minor": 2
}
