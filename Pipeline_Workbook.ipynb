{
 "cells": [
  {
   "cell_type": "code",
   "execution_count": 1,
   "metadata": {},
   "outputs": [],
   "source": [
    "import pandas as pd\n",
    "import numpy as np\n",
    "from pymongo import MongoClient\n",
    "import pprint\n",
    "import matplotlib.pyplot as plt\n",
    "%matplotlib inline"
   ]
  },
  {
   "cell_type": "code",
   "execution_count": 2,
   "metadata": {},
   "outputs": [],
   "source": [
    "client = MongoClient()\n",
    "db = client['rotten_tomatoes']\n",
    "rating = db['ratings']"
   ]
  },
  {
   "cell_type": "code",
   "execution_count": 3,
   "metadata": {},
   "outputs": [
    {
     "data": {
      "text/plain": [
       "269"
      ]
     },
     "execution_count": 3,
     "metadata": {},
     "output_type": "execute_result"
    }
   ],
   "source": [
    "rating.count_documents({})"
   ]
  },
  {
   "cell_type": "code",
   "execution_count": 4,
   "metadata": {},
   "outputs": [],
   "source": [
    "df = pd.DataFrame(list(rating.find()))"
   ]
  },
  {
   "cell_type": "code",
   "execution_count": 5,
   "metadata": {},
   "outputs": [
    {
     "data": {
      "text/html": [
       "<div>\n",
       "<style scoped>\n",
       "    .dataframe tbody tr th:only-of-type {\n",
       "        vertical-align: middle;\n",
       "    }\n",
       "\n",
       "    .dataframe tbody tr th {\n",
       "        vertical-align: top;\n",
       "    }\n",
       "\n",
       "    .dataframe thead th {\n",
       "        text-align: right;\n",
       "    }\n",
       "</style>\n",
       "<table border=\"1\" class=\"dataframe\">\n",
       "  <thead>\n",
       "    <tr style=\"text-align: right;\">\n",
       "      <th></th>\n",
       "      <th>movie</th>\n",
       "      <th>tomatometer</th>\n",
       "      <th>audience</th>\n",
       "      <th>date</th>\n",
       "    </tr>\n",
       "  </thead>\n",
       "  <tbody>\n",
       "    <tr>\n",
       "      <td>0</td>\n",
       "      <td>The Invisible Man</td>\n",
       "      <td>91</td>\n",
       "      <td>88</td>\n",
       "      <td>Feb 28, 2020</td>\n",
       "    </tr>\n",
       "    <tr>\n",
       "      <td>1</td>\n",
       "      <td>The Way Back</td>\n",
       "      <td>83</td>\n",
       "      <td>84</td>\n",
       "      <td>Mar 6, 2020</td>\n",
       "    </tr>\n",
       "    <tr>\n",
       "      <td>2</td>\n",
       "      <td>Never Rarely Sometimes Always</td>\n",
       "      <td>99</td>\n",
       "      <td>73</td>\n",
       "      <td>Mar 13, 2020</td>\n",
       "    </tr>\n",
       "    <tr>\n",
       "      <td>3</td>\n",
       "      <td>Polaroid</td>\n",
       "      <td>0</td>\n",
       "      <td>32</td>\n",
       "      <td>Oct 11, 2019</td>\n",
       "    </tr>\n",
       "    <tr>\n",
       "      <td>4</td>\n",
       "      <td>Replicas</td>\n",
       "      <td>9</td>\n",
       "      <td>34</td>\n",
       "      <td>Jan 11, 2019</td>\n",
       "    </tr>\n",
       "    <tr>\n",
       "      <td>...</td>\n",
       "      <td>...</td>\n",
       "      <td>...</td>\n",
       "      <td>...</td>\n",
       "      <td>...</td>\n",
       "    </tr>\n",
       "    <tr>\n",
       "      <td>265</td>\n",
       "      <td>The Night Clerk</td>\n",
       "      <td>37</td>\n",
       "      <td>37</td>\n",
       "      <td>Feb 21, 2020</td>\n",
       "    </tr>\n",
       "    <tr>\n",
       "      <td>266</td>\n",
       "      <td>6 Underground</td>\n",
       "      <td>36</td>\n",
       "      <td>61</td>\n",
       "      <td>Dec 13, 2019</td>\n",
       "    </tr>\n",
       "    <tr>\n",
       "      <td>267</td>\n",
       "      <td>Maleficent: Mistress of Evil</td>\n",
       "      <td>40</td>\n",
       "      <td>95</td>\n",
       "      <td>Oct 18, 2019</td>\n",
       "    </tr>\n",
       "    <tr>\n",
       "      <td>268</td>\n",
       "      <td>In the Tall Grass</td>\n",
       "      <td>37</td>\n",
       "      <td>34</td>\n",
       "      <td>Oct 4, 2019</td>\n",
       "    </tr>\n",
       "    <tr>\n",
       "      <td>269</td>\n",
       "      <td>Angel Has Fallen</td>\n",
       "      <td>39</td>\n",
       "      <td>93</td>\n",
       "      <td>Aug 23, 2019</td>\n",
       "    </tr>\n",
       "  </tbody>\n",
       "</table>\n",
       "<p>270 rows × 4 columns</p>\n",
       "</div>"
      ],
      "text/plain": [
       "                             movie tomatometer audience          date\n",
       "0                The Invisible Man          91       88  Feb 28, 2020\n",
       "1                     The Way Back          83       84   Mar 6, 2020\n",
       "2    Never Rarely Sometimes Always          99       73  Mar 13, 2020\n",
       "3                         Polaroid           0       32  Oct 11, 2019\n",
       "4                         Replicas           9       34  Jan 11, 2019\n",
       "..                             ...         ...      ...           ...\n",
       "265                The Night Clerk          37       37  Feb 21, 2020\n",
       "266                  6 Underground          36       61  Dec 13, 2019\n",
       "267   Maleficent: Mistress of Evil          40       95  Oct 18, 2019\n",
       "268              In the Tall Grass          37       34   Oct 4, 2019\n",
       "269               Angel Has Fallen          39       93  Aug 23, 2019\n",
       "\n",
       "[270 rows x 4 columns]"
      ]
     },
     "execution_count": 5,
     "metadata": {},
     "output_type": "execute_result"
    }
   ],
   "source": [
    "df=df.iloc[:,1:]\n",
    "df"
   ]
  },
  {
   "cell_type": "code",
   "execution_count": 6,
   "metadata": {},
   "outputs": [],
   "source": [
    "df['tomatometer']=[int(rating) for rating in df['tomatometer']]"
   ]
  },
  {
   "cell_type": "code",
   "execution_count": 7,
   "metadata": {},
   "outputs": [
    {
     "data": {
      "text/plain": [
       "0      91\n",
       "1      83\n",
       "2      99\n",
       "3       0\n",
       "4       9\n",
       "       ..\n",
       "265    37\n",
       "266    36\n",
       "267    40\n",
       "268    37\n",
       "269    39\n",
       "Name: tomatometer, Length: 270, dtype: int64"
      ]
     },
     "execution_count": 7,
     "metadata": {},
     "output_type": "execute_result"
    }
   ],
   "source": [
    "df['tomatometer']"
   ]
  },
  {
   "cell_type": "code",
   "execution_count": 8,
   "metadata": {},
   "outputs": [
    {
     "data": {
      "text/plain": [
       "0      88\n",
       "1      84\n",
       "2      73\n",
       "3      32\n",
       "4      34\n",
       "       ..\n",
       "265    37\n",
       "266    61\n",
       "267    95\n",
       "268    34\n",
       "269    93\n",
       "Name: audience, Length: 270, dtype: object"
      ]
     },
     "execution_count": 8,
     "metadata": {},
     "output_type": "execute_result"
    }
   ],
   "source": [
    "df['audience']"
   ]
  },
  {
   "cell_type": "code",
   "execution_count": 9,
   "metadata": {},
   "outputs": [],
   "source": [
    "df['audience']=[int(rating) for rating in df['audience']]"
   ]
  },
  {
   "cell_type": "code",
   "execution_count": 10,
   "metadata": {},
   "outputs": [
    {
     "data": {
      "text/plain": [
       "0      88\n",
       "1      84\n",
       "2      73\n",
       "3      32\n",
       "4      34\n",
       "       ..\n",
       "265    37\n",
       "266    61\n",
       "267    95\n",
       "268    34\n",
       "269    93\n",
       "Name: audience, Length: 270, dtype: int64"
      ]
     },
     "execution_count": 10,
     "metadata": {},
     "output_type": "execute_result"
    }
   ],
   "source": [
    "df['audience']"
   ]
  },
  {
   "cell_type": "code",
   "execution_count": 14,
   "metadata": {},
   "outputs": [
    {
     "data": {
      "text/plain": [
       "<matplotlib.collections.PathCollection at 0x120be6810>"
      ]
     },
     "execution_count": 14,
     "metadata": {},
     "output_type": "execute_result"
    },
    {
     "data": {
      "image/png": "[encoded data removed]",
      "text/plain": [
       "<Figure size 432x288 with 1 Axes>"
      ]
     },
     "metadata": {
      "needs_background": "light"
     },
     "output_type": "display_data"
    }
   ],
   "source": [
    "fig, ax = plt.subplots()\n",
    "\n",
    "ax.scatter(df['audience'][df['tomatometer']<10],df['tomatometer'][df['tomatometer']<10])"
   ]
  },
  {
   "cell_type": "code",
   "execution_count": 19,
   "metadata": {},
   "outputs": [],
   "source": [
    "def test_for_and_remove_duplicates(df):\n",
    "    r = df.duplicated()\n",
    "    indi=[]\n",
    "    for idx, char in enumerate(r):\n",
    "        if i==True:\n",
    "            tr+=1\n",
    "            indi.append(idx)\n",
    "    for i in indi:\n",
    "        df.drop(axis=0,index=i,inplace=True)\n",
    "    return df"
   ]
  },
  {
   "cell_type": "code",
   "execution_count": 20,
   "metadata": {},
   "outputs": [
    {
     "data": {
      "text/plain": [
       "(0, 270)"
      ]
     },
     "execution_count": 20,
     "metadata": {},
     "output_type": "execute_result"
    }
   ],
   "source": [
    "tr,fl"
   ]
  },
  {
   "cell_type": "code",
   "execution_count": null,
   "metadata": {},
   "outputs": [],
   "source": []
  }
 ],
 "metadata": {
  "kernelspec": {
   "display_name": "Python 3",
   "language": "python",
   "name": "python3"
  },
  "language_info": {
   "codemirror_mode": {
    "name": "ipython",
    "version": 3
   },
   "file_extension": ".py",
   "mimetype": "text/x-python",
   "name": "python",
   "nbconvert_exporter": "python",
   "pygments_lexer": "ipython3",
   "version": "3.7.4"
  }
 },
 "nbformat": 4,
 "nbformat_minor": 2
}
