{
 "cells": [
  {
   "cell_type": "code",
   "execution_count": 1,
   "metadata": {},
   "outputs": [],
   "source": [
    "import numpy as np\n",
    "import pandas as pd\n",
    "import matplotlib.pyplot as plt\n",
    "import scipy.stats as stats\n",
    "from random import *\n",
    "%matplotlib inline"
   ]
  },
  {
   "cell_type": "code",
   "execution_count": 2,
   "metadata": {},
   "outputs": [],
   "source": [
    "%run -i 'data_pipeline.py'"
   ]
  },
  {
   "cell_type": "code",
   "execution_count": 3,
   "metadata": {},
   "outputs": [
    {
     "data": {
      "text/html": [
       "<div>\n",
       "<style scoped>\n",
       "    .dataframe tbody tr th:only-of-type {\n",
       "        vertical-align: middle;\n",
       "    }\n",
       "\n",
       "    .dataframe tbody tr th {\n",
       "        vertical-align: top;\n",
       "    }\n",
       "\n",
       "    .dataframe thead th {\n",
       "        text-align: right;\n",
       "    }\n",
       "</style>\n",
       "<table border=\"1\" class=\"dataframe\">\n",
       "  <thead>\n",
       "    <tr style=\"text-align: right;\">\n",
       "      <th></th>\n",
       "      <th>movie</th>\n",
       "      <th>critic_score</th>\n",
       "      <th>audience_score</th>\n",
       "      <th>release_date</th>\n",
       "      <th>audience_tomatometer</th>\n",
       "      <th>critic_tomatometer</th>\n",
       "      <th>score_difference</th>\n",
       "    </tr>\n",
       "  </thead>\n",
       "  <tbody>\n",
       "    <tr>\n",
       "      <td>0</td>\n",
       "      <td>The Invisible Man</td>\n",
       "      <td>91</td>\n",
       "      <td>88</td>\n",
       "      <td>Feb 28, 2020</td>\n",
       "      <td>Fresh</td>\n",
       "      <td>Fresh</td>\n",
       "      <td>-3</td>\n",
       "    </tr>\n",
       "    <tr>\n",
       "      <td>1</td>\n",
       "      <td>The Way Back</td>\n",
       "      <td>83</td>\n",
       "      <td>84</td>\n",
       "      <td>Mar 6, 2020</td>\n",
       "      <td>Fresh</td>\n",
       "      <td>Fresh</td>\n",
       "      <td>1</td>\n",
       "    </tr>\n",
       "    <tr>\n",
       "      <td>2</td>\n",
       "      <td>Never Rarely Sometimes Always</td>\n",
       "      <td>99</td>\n",
       "      <td>72</td>\n",
       "      <td>Mar 13, 2020</td>\n",
       "      <td>Fresh</td>\n",
       "      <td>Fresh</td>\n",
       "      <td>-27</td>\n",
       "    </tr>\n",
       "    <tr>\n",
       "      <td>3</td>\n",
       "      <td>Bad Boys for Life</td>\n",
       "      <td>77</td>\n",
       "      <td>96</td>\n",
       "      <td>Jan 17, 2020</td>\n",
       "      <td>Fresh</td>\n",
       "      <td>Fresh</td>\n",
       "      <td>19</td>\n",
       "    </tr>\n",
       "    <tr>\n",
       "      <td>4</td>\n",
       "      <td>Sonic the Hedgehog</td>\n",
       "      <td>64</td>\n",
       "      <td>93</td>\n",
       "      <td>Feb 14, 2020</td>\n",
       "      <td>Fresh</td>\n",
       "      <td>Fresh</td>\n",
       "      <td>29</td>\n",
       "    </tr>\n",
       "    <tr>\n",
       "      <td>...</td>\n",
       "      <td>...</td>\n",
       "      <td>...</td>\n",
       "      <td>...</td>\n",
       "      <td>...</td>\n",
       "      <td>...</td>\n",
       "      <td>...</td>\n",
       "      <td>...</td>\n",
       "    </tr>\n",
       "    <tr>\n",
       "      <td>5943</td>\n",
       "      <td>In Time</td>\n",
       "      <td>37</td>\n",
       "      <td>51</td>\n",
       "      <td>Oct 28, 2011</td>\n",
       "      <td>Rotten</td>\n",
       "      <td>Rotten</td>\n",
       "      <td>14</td>\n",
       "    </tr>\n",
       "    <tr>\n",
       "      <td>5944</td>\n",
       "      <td>Shut Up Little Man!</td>\n",
       "      <td>68</td>\n",
       "      <td>62</td>\n",
       "      <td>Aug 26, 2011</td>\n",
       "      <td>Fresh</td>\n",
       "      <td>Fresh</td>\n",
       "      <td>-6</td>\n",
       "    </tr>\n",
       "    <tr>\n",
       "      <td>5945</td>\n",
       "      <td>Project Nim</td>\n",
       "      <td>97</td>\n",
       "      <td>84</td>\n",
       "      <td>Jul 8, 2011</td>\n",
       "      <td>Fresh</td>\n",
       "      <td>Fresh</td>\n",
       "      <td>-13</td>\n",
       "    </tr>\n",
       "    <tr>\n",
       "      <td>5946</td>\n",
       "      <td>Resurrect Dead: The Mystery of the Toynbee Tiles</td>\n",
       "      <td>65</td>\n",
       "      <td>81</td>\n",
       "      <td>Sep 2, 2011</td>\n",
       "      <td>Fresh</td>\n",
       "      <td>Fresh</td>\n",
       "      <td>16</td>\n",
       "    </tr>\n",
       "    <tr>\n",
       "      <td>5947</td>\n",
       "      <td>The Woman</td>\n",
       "      <td>72</td>\n",
       "      <td>56</td>\n",
       "      <td>Oct 14, 2011</td>\n",
       "      <td>Rotten</td>\n",
       "      <td>Fresh</td>\n",
       "      <td>-16</td>\n",
       "    </tr>\n",
       "  </tbody>\n",
       "</table>\n",
       "<p>5948 rows × 7 columns</p>\n",
       "</div>"
      ],
      "text/plain": [
       "                                                 movie  critic_score  \\\n",
       "0                                    The Invisible Man            91   \n",
       "1                                         The Way Back            83   \n",
       "2                        Never Rarely Sometimes Always            99   \n",
       "3                                    Bad Boys for Life            77   \n",
       "4                                   Sonic the Hedgehog            64   \n",
       "...                                                ...           ...   \n",
       "5943                                           In Time            37   \n",
       "5944                               Shut Up Little Man!            68   \n",
       "5945                                       Project Nim            97   \n",
       "5946  Resurrect Dead: The Mystery of the Toynbee Tiles            65   \n",
       "5947                                         The Woman            72   \n",
       "\n",
       "      audience_score  release_date audience_tomatometer critic_tomatometer  \\\n",
       "0                 88  Feb 28, 2020                Fresh              Fresh   \n",
       "1                 84   Mar 6, 2020                Fresh              Fresh   \n",
       "2                 72  Mar 13, 2020                Fresh              Fresh   \n",
       "3                 96  Jan 17, 2020                Fresh              Fresh   \n",
       "4                 93  Feb 14, 2020                Fresh              Fresh   \n",
       "...              ...           ...                  ...                ...   \n",
       "5943              51  Oct 28, 2011               Rotten             Rotten   \n",
       "5944              62  Aug 26, 2011                Fresh              Fresh   \n",
       "5945              84   Jul 8, 2011                Fresh              Fresh   \n",
       "5946              81   Sep 2, 2011                Fresh              Fresh   \n",
       "5947              56  Oct 14, 2011               Rotten              Fresh   \n",
       "\n",
       "      score_difference  \n",
       "0                   -3  \n",
       "1                    1  \n",
       "2                  -27  \n",
       "3                   19  \n",
       "4                   29  \n",
       "...                ...  \n",
       "5943                14  \n",
       "5944                -6  \n",
       "5945               -13  \n",
       "5946                16  \n",
       "5947               -16  \n",
       "\n",
       "[5948 rows x 7 columns]"
      ]
     },
     "execution_count": 3,
     "metadata": {},
     "output_type": "execute_result"
    }
   ],
   "source": [
    "ratings_df"
   ]
  },
  {
   "cell_type": "markdown",
   "metadata": {},
   "source": [
    "# Hypothesis Test ( Are means the Same)\n",
    "\n",
    "##### Null Hypothesis: The mean of the critic scores equals the mean of the audience scores.\n",
    "\n",
    "##### Alternative Hypothesis: The mean of the critic scores does not equals the mean of the audience scores.\n",
    "\n",
    "##### Significance Level= 0.05"
   ]
  },
  {
   "cell_type": "code",
   "execution_count": 4,
   "metadata": {},
   "outputs": [
    {
     "data": {
      "text/plain": [
       "(61.595998655010085, 57.66156691324815)"
      ]
     },
     "execution_count": 4,
     "metadata": {},
     "output_type": "execute_result"
    }
   ],
   "source": [
    "ratings_df['critic_score'].mean(),ratings_df['audience_score'].mean()"
   ]
  },
  {
   "cell_type": "code",
   "execution_count": 5,
   "metadata": {},
   "outputs": [
    {
     "data": {
      "text/plain": [
       "(8.610561144248239, 8.182194263833515e-18)"
      ]
     },
     "execution_count": 5,
     "metadata": {},
     "output_type": "execute_result"
    }
   ],
   "source": [
    "stat,p_val=stats.ttest_ind(ratings_df['critic_score'],ratings_df['audience_score'])\n",
    "stat,p_val"
   ]
  },
  {
   "cell_type": "markdown",
   "metadata": {},
   "source": [
    "#### Reject Null. The mean of critic and audience scores is not equal."
   ]
  },
  {
   "cell_type": "markdown",
   "metadata": {},
   "source": [
    "# Hypothesis Test ( Are means within 5 points of each other)\n",
    "\n",
    "##### Null Hypothesis: The mean critic score - The mean audience score <=5\n",
    "\n",
    "##### Alternative Hypothesis: The mean critic score - the mean audience score is greater than   >5\n",
    "\n",
    "##### Significance Level= 0.05"
   ]
  },
  {
   "cell_type": "code",
   "execution_count": 6,
   "metadata": {},
   "outputs": [
    {
     "data": {
      "text/plain": [
       "-3.9344317417619368"
      ]
     },
     "execution_count": 6,
     "metadata": {},
     "output_type": "execute_result"
    }
   ],
   "source": [
    "ratings_df['score_difference'].mean()"
   ]
  },
  {
   "cell_type": "code",
   "execution_count": 41,
   "metadata": {},
   "outputs": [
    {
     "name": "stdout",
     "output_type": "stream",
     "text": [
      "A difference of 4 with a p value of 0.8859000420527753 causes us to Fail to Reject Null\n"
     ]
    }
   ],
   "source": [
    "def ttest_range(range_,alpha):\n",
    "    count=0\n",
    "    p_val_and_diff=[]\n",
    "    for i in range(1,range_):\n",
    "        stat,p_val=stats.ttest_ind(ratings_df['critic_score']-i,ratings_df['audience_score'])\n",
    "        if p_val > alpha:\n",
    "            count+=1\n",
    "            p_val_and_diff.append(p_val)\n",
    "            p_val_and_diff.append(i)\n",
    "            \n",
    "    if count==0:\n",
    "        print(\"Reject the Null\")\n",
    "    else:\n",
    "        print(f\"A difference of {p_val_and_diff[1]} with a p value of {p_val_and_diff[0]} causes us to Fail to Reject Null\")\n",
    "ttest_range(5,0.05)"
   ]
  },
  {
   "cell_type": "markdown",
   "metadata": {},
   "source": [
    "#### Fail to Reject Null. The mean Audience score and Mean score are within 5 points of each other."
   ]
  },
  {
   "cell_type": "markdown",
   "metadata": {},
   "source": [
    "# Bayesian Test ( What is the probability the scores are within 5 points )"
   ]
  },
  {
   "cell_type": "code",
   "execution_count": 8,
   "metadata": {},
   "outputs": [
    {
     "data": {
      "text/plain": [
       "17.15"
      ]
     },
     "execution_count": 8,
     "metadata": {},
     "output_type": "execute_result"
    }
   ],
   "source": [
    "prob = round((abs(ratings_df['critic_score'] - ratings_df['audience_score'])<=5).mean() * 100, 2)\n",
    "prob"
   ]
  },
  {
   "cell_type": "markdown",
   "metadata": {},
   "source": [
    "####  The Audience score is within 5 points of the critic score 16.68% of the time."
   ]
  },
  {
   "cell_type": "code",
   "execution_count": 47,
   "metadata": {},
   "outputs": [
    {
     "data": {
      "text/plain": [
       "[<matplotlib.lines.Line2D at 0x1a16592650>]"
      ]
     },
     "execution_count": 47,
     "metadata": {},
     "output_type": "execute_result"
    },
    {
     "data": {
      "image/png": "[encoded data removed]",
      "text/plain": [
       "<Figure size 864x288 with 1 Axes>"
      ]
     },
     "metadata": {
      "needs_background": "light"
     },
     "output_type": "display_data"
    }
   ],
   "source": [
    "fig, ax = plt.subplots(1,1,figsize=(12,4))\n",
    "ax.hist(ratings_df['score_difference'],color='b',label=('Critic score < Audience Score'))\n",
    "ax.set_xlabel('Difference')\n",
    "ax.legend()\n",
    "ax.set_title(\"Histogram of differences between Audience and Crititc Score for each movie\")\n",
    "plt.savefig('score_diff_hist.png')\n",
    "plt.axvline(x=-3.9,color='r')\n",
    "\n",
    "mu, std = stats.norm.fit(ratings_df['score_difference'])\n",
    "xmin, xmax = plt.xlim()\n",
    "x = np.linspace(xmin, xmax, 100)\n",
    "p = stats.norm.pdf(x, mu, std)\n",
    "plt.plot(x, p, 'k', linewidth=2)"
   ]
  },
  {
   "cell_type": "code",
   "execution_count": 48,
   "metadata": {},
   "outputs": [
    {
     "data": {
      "text/plain": [
       "[<matplotlib.lines.Line2D at 0x1a165944d0>]"
      ]
     },
     "execution_count": 48,
     "metadata": {},
     "output_type": "execute_result"
    },
    {
     "data": {
      "image/png": "[encoded data removed]",
      "text/plain": [
       "<Figure size 432x288 with 1 Axes>"
      ]
     },
     "metadata": {
      "needs_background": "light"
     },
     "output_type": "display_data"
    }
   ],
   "source": [
    "mu, std = stats.norm.fit(ratings_df['score_difference'])\n",
    "xmin, xmax = plt.xlim()\n",
    "x = np.linspace(xmin, xmax, 100)\n",
    "p = stats.norm.pdf(x, mu, std)\n",
    "plt.plot(x, p, 'k', linewidth=2)"
   ]
  },
  {
   "cell_type": "code",
   "execution_count": null,
   "metadata": {},
   "outputs": [],
   "source": []
  }
 ],
 "metadata": {
  "kernelspec": {
   "display_name": "Python 3",
   "language": "python",
   "name": "python3"
  },
  "language_info": {
   "codemirror_mode": {
    "name": "ipython",
    "version": 3
   },
   "file_extension": ".py",
   "mimetype": "text/x-python",
   "name": "python",
   "nbconvert_exporter": "python",
   "pygments_lexer": "ipython3",
   "version": "3.7.4"
  }
 },
 "nbformat": 4,
 "nbformat_minor": 2
}
