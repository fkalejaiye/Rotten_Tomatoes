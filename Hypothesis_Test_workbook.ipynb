{
 "cells": [
  {
   "cell_type": "code",
   "execution_count": 1,
   "metadata": {},
   "outputs": [],
   "source": [
    "import numpy as np\n",
    "import pandas as pd\n",
    "import matplotlib.pyplot as plt\n",
    "import scipy.stats as stats\n",
    "from random import *\n",
    "%matplotlib inline"
   ]
  },
  {
   "cell_type": "code",
   "execution_count": 2,
   "metadata": {},
   "outputs": [],
   "source": [
    "%run -i 'data_pipeline.py'"
   ]
  },
  {
   "cell_type": "code",
   "execution_count": 3,
   "metadata": {},
   "outputs": [
    {
     "data": {
      "text/html": [
       "<div>\n",
       "<style scoped>\n",
       "    .dataframe tbody tr th:only-of-type {\n",
       "        vertical-align: middle;\n",
       "    }\n",
       "\n",
       "    .dataframe tbody tr th {\n",
       "        vertical-align: top;\n",
       "    }\n",
       "\n",
       "    .dataframe thead th {\n",
       "        text-align: right;\n",
       "    }\n",
       "</style>\n",
       "<table border=\"1\" class=\"dataframe\">\n",
       "  <thead>\n",
       "    <tr style=\"text-align: right;\">\n",
       "      <th></th>\n",
       "      <th>movie</th>\n",
       "      <th>critic_score</th>\n",
       "      <th>audience_score</th>\n",
       "      <th>release_date</th>\n",
       "      <th>audience_tomatometer</th>\n",
       "      <th>critic_tomatometer</th>\n",
       "      <th>score_difference</th>\n",
       "    </tr>\n",
       "  </thead>\n",
       "  <tbody>\n",
       "    <tr>\n",
       "      <td>0</td>\n",
       "      <td>The Invisible Man</td>\n",
       "      <td>91</td>\n",
       "      <td>88</td>\n",
       "      <td>Feb 28, 2020</td>\n",
       "      <td>Fresh</td>\n",
       "      <td>Fresh</td>\n",
       "      <td>-3</td>\n",
       "    </tr>\n",
       "    <tr>\n",
       "      <td>1</td>\n",
       "      <td>The Way Back</td>\n",
       "      <td>83</td>\n",
       "      <td>84</td>\n",
       "      <td>Mar 6, 2020</td>\n",
       "      <td>Fresh</td>\n",
       "      <td>Fresh</td>\n",
       "      <td>1</td>\n",
       "    </tr>\n",
       "    <tr>\n",
       "      <td>2</td>\n",
       "      <td>Never Rarely Sometimes Always</td>\n",
       "      <td>99</td>\n",
       "      <td>72</td>\n",
       "      <td>Mar 13, 2020</td>\n",
       "      <td>Fresh</td>\n",
       "      <td>Fresh</td>\n",
       "      <td>-27</td>\n",
       "    </tr>\n",
       "    <tr>\n",
       "      <td>3</td>\n",
       "      <td>Bad Boys for Life</td>\n",
       "      <td>77</td>\n",
       "      <td>96</td>\n",
       "      <td>Jan 17, 2020</td>\n",
       "      <td>Fresh</td>\n",
       "      <td>Fresh</td>\n",
       "      <td>19</td>\n",
       "    </tr>\n",
       "    <tr>\n",
       "      <td>4</td>\n",
       "      <td>Sonic the Hedgehog</td>\n",
       "      <td>64</td>\n",
       "      <td>93</td>\n",
       "      <td>Feb 14, 2020</td>\n",
       "      <td>Fresh</td>\n",
       "      <td>Fresh</td>\n",
       "      <td>29</td>\n",
       "    </tr>\n",
       "    <tr>\n",
       "      <td>...</td>\n",
       "      <td>...</td>\n",
       "      <td>...</td>\n",
       "      <td>...</td>\n",
       "      <td>...</td>\n",
       "      <td>...</td>\n",
       "      <td>...</td>\n",
       "      <td>...</td>\n",
       "    </tr>\n",
       "    <tr>\n",
       "      <td>6331</td>\n",
       "      <td>The Adjustment Bureau</td>\n",
       "      <td>71</td>\n",
       "      <td>67</td>\n",
       "      <td>Mar 4, 2011</td>\n",
       "      <td>Fresh</td>\n",
       "      <td>Fresh</td>\n",
       "      <td>-4</td>\n",
       "    </tr>\n",
       "    <tr>\n",
       "      <td>6332</td>\n",
       "      <td>Elektra Luxx</td>\n",
       "      <td>24</td>\n",
       "      <td>19</td>\n",
       "      <td>Mar 11, 2011</td>\n",
       "      <td>Rotten</td>\n",
       "      <td>Rotten</td>\n",
       "      <td>-5</td>\n",
       "    </tr>\n",
       "    <tr>\n",
       "      <td>6333</td>\n",
       "      <td>Battle: Los Angeles</td>\n",
       "      <td>36</td>\n",
       "      <td>48</td>\n",
       "      <td>Mar 11, 2011</td>\n",
       "      <td>Rotten</td>\n",
       "      <td>Rotten</td>\n",
       "      <td>12</td>\n",
       "    </tr>\n",
       "    <tr>\n",
       "      <td>6334</td>\n",
       "      <td>The Eagle</td>\n",
       "      <td>40</td>\n",
       "      <td>41</td>\n",
       "      <td>Feb 11, 2011</td>\n",
       "      <td>Rotten</td>\n",
       "      <td>Rotten</td>\n",
       "      <td>1</td>\n",
       "    </tr>\n",
       "    <tr>\n",
       "      <td>6335</td>\n",
       "      <td>Bloodworth</td>\n",
       "      <td>50</td>\n",
       "      <td>40</td>\n",
       "      <td>May 20, 2011</td>\n",
       "      <td>Rotten</td>\n",
       "      <td>Rotten</td>\n",
       "      <td>-10</td>\n",
       "    </tr>\n",
       "  </tbody>\n",
       "</table>\n",
       "<p>6336 rows × 7 columns</p>\n",
       "</div>"
      ],
      "text/plain": [
       "                              movie  critic_score  audience_score  \\\n",
       "0                 The Invisible Man            91              88   \n",
       "1                      The Way Back            83              84   \n",
       "2     Never Rarely Sometimes Always            99              72   \n",
       "3                 Bad Boys for Life            77              96   \n",
       "4                Sonic the Hedgehog            64              93   \n",
       "...                             ...           ...             ...   \n",
       "6331          The Adjustment Bureau            71              67   \n",
       "6332                   Elektra Luxx            24              19   \n",
       "6333            Battle: Los Angeles            36              48   \n",
       "6334                      The Eagle            40              41   \n",
       "6335                     Bloodworth            50              40   \n",
       "\n",
       "      release_date audience_tomatometer critic_tomatometer  score_difference  \n",
       "0     Feb 28, 2020                Fresh              Fresh                -3  \n",
       "1      Mar 6, 2020                Fresh              Fresh                 1  \n",
       "2     Mar 13, 2020                Fresh              Fresh               -27  \n",
       "3     Jan 17, 2020                Fresh              Fresh                19  \n",
       "4     Feb 14, 2020                Fresh              Fresh                29  \n",
       "...            ...                  ...                ...               ...  \n",
       "6331   Mar 4, 2011                Fresh              Fresh                -4  \n",
       "6332  Mar 11, 2011               Rotten             Rotten                -5  \n",
       "6333  Mar 11, 2011               Rotten             Rotten                12  \n",
       "6334  Feb 11, 2011               Rotten             Rotten                 1  \n",
       "6335  May 20, 2011               Rotten             Rotten               -10  \n",
       "\n",
       "[6336 rows x 7 columns]"
      ]
     },
     "execution_count": 3,
     "metadata": {},
     "output_type": "execute_result"
    }
   ],
   "source": [
    "ratings_df"
   ]
  },
  {
   "cell_type": "code",
   "execution_count": 23,
   "metadata": {},
   "outputs": [
    {
     "data": {
      "text/plain": [
       "18.33822601010101"
      ]
     },
     "execution_count": 23,
     "metadata": {},
     "output_type": "execute_result"
    }
   ],
   "source": [
    "a = [abs(i) for i in ratings_df['score_difference']]\n",
    "np.mean(a)"
   ]
  },
  {
   "cell_type": "markdown",
   "metadata": {},
   "source": [
    "# Hypothesis Test ( Are means the Same)\n",
    "\n",
    "##### Null Hypothesis: The mean of the critic scores equals the mean of the audience scores.\n",
    "\n",
    "##### Alternative Hypothesis: The mean of the critic scores does not equals the mean of the audience scores.\n",
    "\n",
    "##### Significance Level= 0.05"
   ]
  },
  {
   "cell_type": "code",
   "execution_count": 4,
   "metadata": {},
   "outputs": [
    {
     "data": {
      "text/plain": [
       "(61.52872474747475, 57.72206439393939)"
      ]
     },
     "execution_count": 4,
     "metadata": {},
     "output_type": "execute_result"
    }
   ],
   "source": [
    "ratings_df['critic_score'].mean(),ratings_df['audience_score'].mean()"
   ]
  },
  {
   "cell_type": "code",
   "execution_count": 5,
   "metadata": {},
   "outputs": [
    {
     "data": {
      "text/plain": [
       "(8.62494752202684, 7.169805775366437e-18)"
      ]
     },
     "execution_count": 5,
     "metadata": {},
     "output_type": "execute_result"
    }
   ],
   "source": [
    "stat,p_val=stats.ttest_ind(ratings_df['critic_score'],ratings_df['audience_score'])\n",
    "stat,p_val"
   ]
  },
  {
   "cell_type": "markdown",
   "metadata": {},
   "source": [
    "#### Reject Null. The mean of critic and audience scores is not equal."
   ]
  },
  {
   "cell_type": "markdown",
   "metadata": {},
   "source": [
    "# Hypothesis Test ( Are means within 5 points of each other)\n",
    "\n",
    "##### Null Hypothesis: The mean critic score - The mean audience score <=5\n",
    "\n",
    "##### Alternative Hypothesis: The mean critic score - the mean audience score is greater than   >5\n",
    "\n",
    "##### Significance Level= 0.05"
   ]
  },
  {
   "cell_type": "code",
   "execution_count": 6,
   "metadata": {},
   "outputs": [
    {
     "data": {
      "text/plain": [
       "-3.8066603535353534"
      ]
     },
     "execution_count": 6,
     "metadata": {},
     "output_type": "execute_result"
    }
   ],
   "source": [
    "ratings_df['score_difference'].mean()"
   ]
  },
  {
   "cell_type": "code",
   "execution_count": 24,
   "metadata": {},
   "outputs": [
    {
     "name": "stdout",
     "output_type": "stream",
     "text": [
      "A difference of 3 with a p value of 0.06761927387819971 causes us to Fail to Reject Null\n"
     ]
    }
   ],
   "source": [
    "def ttest_range(range_,alpha):\n",
    "    count=0\n",
    "    p_val_and_diff=[]\n",
    "    for i in range(1,range_):\n",
    "        stat,p_val=stats.ttest_ind(ratings_df['critic_score']-i,ratings_df['audience_score'])\n",
    "        if p_val > alpha/range_:\n",
    "            count+=1\n",
    "            p_val_and_diff.append(p_val)\n",
    "            p_val_and_diff.append(i)\n",
    "            \n",
    "    if count==0:\n",
    "        print(\"Reject the Null\")\n",
    "    else:\n",
    "        print(f\"A difference of {p_val_and_diff[1]} with a p value of {p_val_and_diff[0]} causes us to Fail to Reject Null\")\n",
    "ttest_range(5,0.05)"
   ]
  },
  {
   "cell_type": "markdown",
   "metadata": {},
   "source": [
    "#### Fail to Reject Null. The mean Audience score and Mean score are within 5 points of each other."
   ]
  },
  {
   "cell_type": "markdown",
   "metadata": {},
   "source": [
    "# Bayesian Test ( What is the probability the scores are within 5 points )"
   ]
  },
  {
   "cell_type": "code",
   "execution_count": 8,
   "metadata": {},
   "outputs": [
    {
     "data": {
      "text/plain": [
       "17.47"
      ]
     },
     "execution_count": 8,
     "metadata": {},
     "output_type": "execute_result"
    }
   ],
   "source": [
    "prob = round((abs(ratings_df['critic_score'] - ratings_df['audience_score'])<=5).mean() * 100, 2)\n",
    "prob"
   ]
  },
  {
   "cell_type": "markdown",
   "metadata": {},
   "source": [
    "####  The Audience score is within 5 points of the critic score 16.68% of the time."
   ]
  },
  {
   "cell_type": "code",
   "execution_count": 9,
   "metadata": {},
   "outputs": [
    {
     "data": {
      "text/plain": [
       "[<matplotlib.lines.Line2D at 0x1a219c7610>]"
      ]
     },
     "execution_count": 9,
     "metadata": {},
     "output_type": "execute_result"
    },
    {
     "data": {
      "image/png": "[encoded data removed]",
      "text/plain": [
       "<Figure size 864x288 with 1 Axes>"
      ]
     },
     "metadata": {
      "needs_background": "light"
     },
     "output_type": "display_data"
    }
   ],
   "source": [
    "fig, ax = plt.subplots(1,1,figsize=(12,4))\n",
    "ax.hist(ratings_df['score_difference'],color='b',label=('Critic score < Audience Score'))\n",
    "ax.set_xlabel('Difference')\n",
    "ax.legend()\n",
    "ax.set_title(\"Histogram of differences between Audience and Crititc Score for each movie\")\n",
    "plt.savefig('score_diff_hist.png')\n",
    "plt.axvline(x=-3.9,color='r')\n",
    "\n",
    "mu, std = stats.norm.fit(ratings_df['score_difference'])\n",
    "xmin, xmax = plt.xlim()\n",
    "x = np.linspace(xmin, xmax, 100)\n",
    "p = stats.norm.pdf(x, mu, std)\n",
    "plt.plot(x, p, 'k', linewidth=2)"
   ]
  },
  {
   "cell_type": "code",
   "execution_count": 33,
   "metadata": {},
   "outputs": [],
   "source": [
    "ratings_df_critic_sorted = ratings_df.sort_values(axis=0, by='critic_score')"
   ]
  },
  {
   "cell_type": "code",
   "execution_count": 37,
   "metadata": {},
   "outputs": [
    {
     "data": {
      "text/plain": [
       "Text(0.5, 1.0, 'Audience Scores vs Critic Scores')"
      ]
     },
     "execution_count": 37,
     "metadata": {},
     "output_type": "execute_result"
    },
    {
     "data": {
      "image/png": "[encoded data removed]",
      "text/plain": [
       "<Figure size 864x288 with 1 Axes>"
      ]
     },
     "metadata": {
      "needs_background": "light"
     },
     "output_type": "display_data"
    }
   ],
   "source": [
    "fig, ax = plt.subplots(1,1,figsize=(12,4))\n",
    "ax.plot(ratings_df_critic_sorted['critic_score'].sort_values(),ratings_df_critic_sorted['audience_score'])\n",
    "ax.set_xlabel('Critic Scores')\n",
    "ax.set_ylabel('Audience Scores')\n",
    "ax.set_title('Audience Scores vs Critic Scores')"
   ]
  },
  {
   "cell_type": "code",
   "execution_count": null,
   "metadata": {},
   "outputs": [],
   "source": []
  }
 ],
 "metadata": {
  "kernelspec": {
   "display_name": "Python 3",
   "language": "python",
   "name": "python3"
  },
  "language_info": {
   "codemirror_mode": {
    "name": "ipython",
    "version": 3
   },
   "file_extension": ".py",
   "mimetype": "text/x-python",
   "name": "python",
   "nbconvert_exporter": "python",
   "pygments_lexer": "ipython3",
   "version": "3.7.4"
  }
 },
 "nbformat": 4,
 "nbformat_minor": 2
}
