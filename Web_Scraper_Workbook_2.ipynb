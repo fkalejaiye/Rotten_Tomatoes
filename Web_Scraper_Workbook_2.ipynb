{
 "cells": [
  {
   "cell_type": "code",
   "execution_count": 3,
   "metadata": {},
   "outputs": [],
   "source": [
    "from pymongo import MongoClient\n",
    "import pandas as pd\n",
    "import requests\n",
    "from bs4 import BeautifulSoup\n",
    "import time\n",
    "import pprint\n",
    "import time\n",
    "import json\n",
    "from contextlib import contextmanager\n",
    "from selenium import webdriver\n",
    "from selenium.webdriver.common.by import By\n",
    "from selenium.webdriver.support.ui import WebDriverWait\n",
    "from selenium.webdriver.support import expected_conditions as EC\n",
    "from selenium.common.exceptions import ElementNotVisibleException\n",
    "from selenium.common.exceptions import TimeoutException\n",
    "from selenium.common.exceptions import StaleElementReferenceException"
   ]
  },
  {
   "cell_type": "code",
   "execution_count": 4,
   "metadata": {},
   "outputs": [],
   "source": [
    "client = MongoClient()\n",
    "testing_db=client['testing']\n",
    "testcoll=testing_db['testcol']"
   ]
  },
  {
   "cell_type": "code",
   "execution_count": 5,
   "metadata": {},
   "outputs": [],
   "source": [
    "url_main='https://www.rottentomatoes.com/browse/dvd-streaming-all?minTomato=0&maxTomato=1&services=amazon;hbo_go;itunes;netflix_iw;vudu;amazon_prime;fandango_now&genres=1;2;4;5;6;8;9;10;11;13;18;14&sortBy=release'\n"
   ]
  },
  {
   "cell_type": "code",
   "execution_count": 6,
   "metadata": {},
   "outputs": [],
   "source": [
    "class text_to_be_not_present_in_element(object):\n",
    "    \"\"\" An expectation for checking if the given text is present in the\n",
    "    specified element.\n",
    "    locator, text\n",
    "    \"\"\"\n",
    "    def __init__(self, locator, text_):\n",
    "        self.locator = locator\n",
    "        self.text = text_\n",
    "\n",
    "    def __call__(self, driver):\n",
    "        try :\n",
    "            element_text = EC._find_element(driver, self.locator).text\n",
    "            return not(self.text in element_text)\n",
    "        except StaleElementReferenceException:\n",
    "            return False"
   ]
  },
  {
   "cell_type": "code",
   "execution_count": 11,
   "metadata": {},
   "outputs": [],
   "source": [
    "def get_urls(x):\n",
    "    movie_links = []\n",
    "    driver = webdriver.Chrome(executable_path='./src/chromedriver')\n",
    "    driver.get(x)\n",
    "    soup = BeautifulSoup(driver.page_source, 'lxml')\n",
    "    \n",
    "    show_count = soup.find('span',attrs={'id':'showing-count'}).text\n",
    "    total_count = int(show_count.split(' ')[3])\n",
    "    \n",
    "    elem = driver.find_element_by_xpath('//*[@id=\"show-more-btn\"]/button')\n",
    "    \n",
    "    \n",
    "    while(True):\n",
    "            \n",
    "\n",
    "        #check current count vs total count\n",
    "        soup = BeautifulSoup(driver.page_source,\"lxml\")\n",
    "        show_count = soup.find('span',attrs={'id':'showing-count'}).text\n",
    "\n",
    "        print(show_count)\n",
    "\n",
    "        current_count = int(show_count.split(' ')[1])\n",
    "\n",
    "        #if it has finished clicking, break out of while loop\n",
    "        if(current_count >= (total_count-1)):\n",
    "                break\n",
    "\n",
    "        else:\n",
    "            #continue clicking\n",
    "            try:\n",
    "                elem.click()\n",
    "                wait = WebDriverWait(driver, 90)\n",
    "                #wait until mb-movies is not stale\n",
    "                # elem = wait.until((float(driver.find_element_by_class_name('mb-movies').get_attribute(\"style\").split('opacity: ')[1][0]) == 0.5))\n",
    "                # elem = wait.until((float(driver.find_element_by_class_name('mb-movies').get_attribute(\"style\").split('opacity: ')[1][0]) == 1))\n",
    "                wait = wait.until(text_to_be_not_present_in_element((By.ID,'showing-count'),show_count))\n",
    "            except ElementNotVisibleException:\n",
    "                break\n",
    "            except TimeoutException:\n",
    "                break\n",
    "        \n",
    "    print('Scraping now')\n",
    "        \n",
    "    #record each movie title and its url inside dict\n",
    "    soup = BeautifulSoup(driver.page_source,\"lxml\")\n",
    "    movies = soup.find('div', {'class' :\"mb-movies\"})\n",
    "    for movie in movies:\n",
    "        url = movie.find('a',{'class' : \"popoverTrigger\"})['href']\n",
    "        \n",
    "\n",
    "        movie_links.append(url)\n",
    "        \n",
    "    driver.quit()\n",
    "    \n",
    "    "
   ]
  },
  {
   "cell_type": "code",
   "execution_count": 12,
   "metadata": {},
   "outputs": [
    {
     "ename": "ValueError",
     "evalue": "invalid literal for int() with base 10: ''",
     "output_type": "error",
     "traceback": [
      "\u001b[0;31m---------------------------------------------------------------------------\u001b[0m",
      "\u001b[0;31mValueError\u001b[0m                                Traceback (most recent call last)",
      "\u001b[0;32m<ipython-input-12-576bb83ec876>\u001b[0m in \u001b[0;36m<module>\u001b[0;34m\u001b[0m\n\u001b[0;32m----> 1\u001b[0;31m \u001b[0mget_urls\u001b[0m\u001b[0;34m(\u001b[0m\u001b[0murl_main\u001b[0m\u001b[0;34m)\u001b[0m\u001b[0;34m\u001b[0m\u001b[0;34m\u001b[0m\u001b[0m\n\u001b[0m",
      "\u001b[0;32m<ipython-input-11-61a4e24c0597>\u001b[0m in \u001b[0;36mget_urls\u001b[0;34m(x)\u001b[0m\n\u001b[1;32m      6\u001b[0m \u001b[0;34m\u001b[0m\u001b[0m\n\u001b[1;32m      7\u001b[0m     \u001b[0mshow_count\u001b[0m \u001b[0;34m=\u001b[0m \u001b[0msoup\u001b[0m\u001b[0;34m.\u001b[0m\u001b[0mfind\u001b[0m\u001b[0;34m(\u001b[0m\u001b[0;34m'span'\u001b[0m\u001b[0;34m,\u001b[0m\u001b[0mattrs\u001b[0m\u001b[0;34m=\u001b[0m\u001b[0;34m{\u001b[0m\u001b[0;34m'id'\u001b[0m\u001b[0;34m:\u001b[0m\u001b[0;34m'showing-count'\u001b[0m\u001b[0;34m}\u001b[0m\u001b[0;34m)\u001b[0m\u001b[0;34m.\u001b[0m\u001b[0mtext\u001b[0m\u001b[0;34m\u001b[0m\u001b[0;34m\u001b[0m\u001b[0m\n\u001b[0;32m----> 8\u001b[0;31m     \u001b[0mtotal_count\u001b[0m \u001b[0;34m=\u001b[0m \u001b[0mint\u001b[0m\u001b[0;34m(\u001b[0m\u001b[0mshow_count\u001b[0m\u001b[0;34m.\u001b[0m\u001b[0msplit\u001b[0m\u001b[0;34m(\u001b[0m\u001b[0;34m' '\u001b[0m\u001b[0;34m)\u001b[0m\u001b[0;34m[\u001b[0m\u001b[0;36m3\u001b[0m\u001b[0;34m]\u001b[0m\u001b[0;34m)\u001b[0m\u001b[0;34m\u001b[0m\u001b[0;34m\u001b[0m\u001b[0m\n\u001b[0m\u001b[1;32m      9\u001b[0m \u001b[0;34m\u001b[0m\u001b[0m\n\u001b[1;32m     10\u001b[0m     \u001b[0melem\u001b[0m \u001b[0;34m=\u001b[0m \u001b[0mdriver\u001b[0m\u001b[0;34m.\u001b[0m\u001b[0mfind_element_by_xpath\u001b[0m\u001b[0;34m(\u001b[0m\u001b[0;34m'//*[@id=\"show-more-btn\"]/button'\u001b[0m\u001b[0;34m)\u001b[0m\u001b[0;34m\u001b[0m\u001b[0;34m\u001b[0m\u001b[0m\n",
      "\u001b[0;31mValueError\u001b[0m: invalid literal for int() with base 10: ''"
     ]
    }
   ],
   "source": [
    "get_urls(url_main)"
   ]
  },
  {
   "cell_type": "code",
   "execution_count": null,
   "metadata": {},
   "outputs": [],
   "source": []
  }
 ],
 "metadata": {
  "kernelspec": {
   "display_name": "Python 3",
   "language": "python",
   "name": "python3"
  },
  "language_info": {
   "codemirror_mode": {
    "name": "ipython",
    "version": 3
   },
   "file_extension": ".py",
   "mimetype": "text/x-python",
   "name": "python",
   "nbconvert_exporter": "python",
   "pygments_lexer": "ipython3",
   "version": "3.7.4"
  }
 },
 "nbformat": 4,
 "nbformat_minor": 2
}
